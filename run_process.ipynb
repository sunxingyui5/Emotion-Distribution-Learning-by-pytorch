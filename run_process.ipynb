{
 "cells": [
  {
   "cell_type": "code",
   "execution_count": 1,
   "id": "cf37748e-f2ee-4351-94f0-b48b5e908426",
   "metadata": {},
   "outputs": [],
   "source": [
    "import time\n",
    "import torch\n",
    "from torch.optim import lr_scheduler\n",
    "from torch.utils.data import DataLoader\n",
    "from tqdm import tqdm  # 引入 tqdm 模块\n",
    "\n",
    "import config\n",
    "from model import VGG, CNN, WeightedCombinationLoss\n",
    "from utils import GetData, chebyshev_distance, canberra_distance, cosine_similarity, acc"
   ]
  },
  {
   "cell_type": "code",
   "execution_count": 2,
   "id": "0e0ad82d-56f0-42a0-9537-e5961065ec08",
   "metadata": {},
   "outputs": [
    {
     "name": "stdout",
     "output_type": "stream",
     "text": [
      "Training started...\n"
     ]
    },
    {
     "name": "stderr",
     "output_type": "stream",
     "text": [
      "Epoch 1/10: 100%|██████████| 50/50 [00:07<00:00,  6.95batch/s, loss=-.751]\n",
      "Testing: 100%|██████████| 13/13 [00:00<00:00, 22.50batch/s]\n"
     ]
    },
    {
     "name": "stdout",
     "output_type": "stream",
     "text": [
      "Epoch 1/10:\n",
      "切比雪夫距离: 0.3461\n",
      "堪培拉距离: 3.7881\n",
      "余弦相似度: 0.6686\n",
      "准确性: 0.3125\n",
      "已用时间: 7.81s\n",
      "Model saved to model_save/parameter.pkl1\n",
      "\n"
     ]
    },
    {
     "name": "stderr",
     "output_type": "stream",
     "text": [
      "Epoch 2/10: 100%|██████████| 50/50 [00:07<00:00,  6.98batch/s, loss=-.679]\n",
      "Testing: 100%|██████████| 13/13 [00:00<00:00, 22.43batch/s]\n"
     ]
    },
    {
     "name": "stdout",
     "output_type": "stream",
     "text": [
      "Epoch 2/10:\n",
      "切比雪夫距离: 0.3414\n",
      "堪培拉距离: 3.7653\n",
      "余弦相似度: 0.6797\n",
      "准确性: 0.3125\n",
      "已用时间: 16.60s\n",
      "Model saved to model_save/parameter.pkl2\n",
      "\n"
     ]
    },
    {
     "name": "stderr",
     "output_type": "stream",
     "text": [
      "Epoch 3/10: 100%|██████████| 50/50 [00:07<00:00,  6.95batch/s, loss=-.836]\n",
      "Testing: 100%|██████████| 13/13 [00:00<00:00, 22.32batch/s]\n"
     ]
    },
    {
     "name": "stdout",
     "output_type": "stream",
     "text": [
      "Epoch 3/10:\n",
      "切比雪夫距离: 0.3368\n",
      "堪培拉距离: 3.7469\n",
      "余弦相似度: 0.6880\n",
      "准确性: 0.3125\n",
      "已用时间: 25.44s\n",
      "Model saved to model_save/parameter.pkl3\n",
      "\n"
     ]
    },
    {
     "name": "stderr",
     "output_type": "stream",
     "text": [
      "Epoch 4/10: 100%|██████████| 50/50 [00:07<00:00,  6.95batch/s, loss=-.83] \n",
      "Testing: 100%|██████████| 13/13 [00:00<00:00, 22.36batch/s]\n"
     ]
    },
    {
     "name": "stdout",
     "output_type": "stream",
     "text": [
      "Epoch 4/10:\n",
      "切比雪夫距离: 0.3326\n",
      "堪培拉距离: 3.7311\n",
      "余弦相似度: 0.6927\n",
      "准确性: 0.3125\n",
      "已用时间: 34.25s\n",
      "Model saved to model_save/parameter.pkl4\n",
      "\n"
     ]
    },
    {
     "name": "stderr",
     "output_type": "stream",
     "text": [
      "Epoch 5/10: 100%|██████████| 50/50 [00:07<00:00,  6.97batch/s, loss=-.777]\n",
      "Testing: 100%|██████████| 13/13 [00:00<00:00, 22.22batch/s]\n"
     ]
    },
    {
     "name": "stdout",
     "output_type": "stream",
     "text": [
      "Epoch 5/10:\n",
      "切比雪夫距离: 0.3291\n",
      "堪培拉距离: 3.7211\n",
      "余弦相似度: 0.6922\n",
      "准确性: 0.3125\n",
      "已用时间: 43.26s\n",
      "Model saved to model_save/parameter.pkl5\n",
      "\n"
     ]
    },
    {
     "name": "stderr",
     "output_type": "stream",
     "text": [
      "Epoch 6/10: 100%|██████████| 50/50 [00:07<00:00,  6.99batch/s, loss=-.785]\n",
      "Testing: 100%|██████████| 13/13 [00:00<00:00, 22.28batch/s]\n"
     ]
    },
    {
     "name": "stdout",
     "output_type": "stream",
     "text": [
      "Epoch 6/10:\n",
      "切比雪夫距离: 0.3278\n",
      "堪培拉距离: 3.7191\n",
      "余弦相似度: 0.6861\n",
      "准确性: 0.3125\n",
      "已用时间: 51.96s\n",
      "Model saved to model_save/parameter.pkl6\n",
      "\n"
     ]
    },
    {
     "name": "stderr",
     "output_type": "stream",
     "text": [
      "Epoch 7/10: 100%|██████████| 50/50 [00:07<00:00,  6.95batch/s, loss=-.819]\n",
      "Testing: 100%|██████████| 13/13 [00:00<00:00, 22.04batch/s]\n"
     ]
    },
    {
     "name": "stdout",
     "output_type": "stream",
     "text": [
      "Epoch 7/10:\n",
      "切比雪夫距离: 0.3287\n",
      "堪培拉距离: 3.7237\n",
      "余弦相似度: 0.6728\n",
      "准确性: 0.3125\n",
      "已用时间: 60.69s\n",
      "Model saved to model_save/parameter.pkl7\n",
      "\n"
     ]
    },
    {
     "name": "stderr",
     "output_type": "stream",
     "text": [
      "Epoch 8/10: 100%|██████████| 50/50 [00:07<00:00,  6.97batch/s, loss=-.858]\n",
      "Testing: 100%|██████████| 13/13 [00:00<00:00, 22.19batch/s]\n"
     ]
    },
    {
     "name": "stdout",
     "output_type": "stream",
     "text": [
      "Epoch 8/10:\n",
      "切比雪夫距离: 0.3358\n",
      "堪培拉距离: 3.7541\n",
      "余弦相似度: 0.6477\n",
      "准确性: 0.3125\n",
      "已用时间: 69.45s\n",
      "Model saved to model_save/parameter.pkl8\n",
      "\n"
     ]
    },
    {
     "name": "stderr",
     "output_type": "stream",
     "text": [
      "Epoch 9/10: 100%|██████████| 50/50 [00:07<00:00,  6.98batch/s, loss=-.648]\n",
      "Testing: 100%|██████████| 13/13 [00:00<00:00, 22.04batch/s]\n"
     ]
    },
    {
     "name": "stdout",
     "output_type": "stream",
     "text": [
      "Epoch 9/10:\n",
      "切比雪夫距离: 0.3533\n",
      "堪培拉距离: 3.8046\n",
      "余弦相似度: 0.6121\n",
      "准确性: 0.3125\n",
      "已用时间: 78.20s\n",
      "Model saved to model_save/parameter.pkl9\n",
      "\n"
     ]
    },
    {
     "name": "stderr",
     "output_type": "stream",
     "text": [
      "Epoch 10/10: 100%|██████████| 50/50 [00:07<00:00,  6.88batch/s, loss=-.719]\n",
      "Testing: 100%|██████████| 13/13 [00:00<00:00, 22.15batch/s]\n"
     ]
    },
    {
     "name": "stdout",
     "output_type": "stream",
     "text": [
      "Epoch 10/10:\n",
      "切比雪夫距离: 0.3892\n",
      "堪培拉距离: 3.9077\n",
      "余弦相似度: 0.5638\n",
      "准确性: 0.3125\n",
      "已用时间: 87.04s\n",
      "Model saved to model_save/parameter.pkl10\n",
      "\n"
     ]
    }
   ],
   "source": [
    "# 直接执行代码\n",
    "print(\"Training started...\")\n",
    "train_set = GetData(config.PATH + r\"/train.tf\")\n",
    "test_set = GetData(config.PATH + r\"/test.tf\")\n",
    "train_loader = DataLoader(train_set, batch_size=config.BATCH_SIZE, shuffle=True)\n",
    "test_loader = DataLoader(test_set, batch_size=config.BATCH_SIZE, shuffle=True)\n",
    "device = torch.device(\"cuda\" if config.USE_GPU else \"cpu\")\n",
    "\n",
    "# net = CNN(num_classes=config.NUM_CLASSES)\n",
    "net = VGG(num_classes=config.NUM_CLASSES)\n",
    "loss_function = WeightedCombinationLoss(lmd=config.LMD)\n",
    "# optimizer：全连接层lr=0.01 卷积层lr=0.001\n",
    "# 设置不同层不同的lr\n",
    "optimizer = torch.optim.SGD([\n",
    "    {'params': net.features.parameters()},\n",
    "    {'params': net.classifier.parameters(), 'lr': config.LR_FC},\n",
    "], lr=config.LR_CNN, momentum=0.9)\n",
    "scheduler = lr_scheduler.StepLR(optimizer, step_size=config.STEP_SIZE, gamma=config.GAMMA)\n",
    "\n",
    "if config.USE_GPU:\n",
    "    net.to(device)\n",
    "    loss_function.to(device)\n",
    "\n",
    "start_tick = time.time()\n",
    "for ep in range(1, config.EPOCH + 1):\n",
    "    net.train()  # 设置模型为训练模式\n",
    "    epoch_loss = 0.0\n",
    "    with tqdm(train_loader, desc=f\"Epoch {ep}/{config.EPOCH}\", unit=\"batch\") as tepoch:\n",
    "        for img, label in tepoch:\n",
    "            if config.USE_GPU:\n",
    "                img = img.to(device)\n",
    "                label = label.to(device)\n",
    "\n",
    "            out = net(img)  # 前向传播\n",
    "            loss = loss_function(out, label)  # 计算损失\n",
    "            epoch_loss += loss.item()\n",
    "\n",
    "            optimizer.zero_grad()  # 梯度清零\n",
    "            loss.backward()  # 反向传播\n",
    "            optimizer.step()  # 更新参数\n",
    "\n",
    "            # 更新 tqdm 的描述信息\n",
    "            tepoch.set_postfix(loss=loss.item())\n",
    "\n",
    "    scheduler.step()  # 更新学习率\n",
    "\n",
    "    # 测试阶段\n",
    "    net.eval()  # 设置模型为评估模式\n",
    "    num_c_score = num_acc = num_ca_score = num_cos_score = 0  # 初始化各种score\n",
    "    with torch.no_grad():\n",
    "        for img, label in tqdm(test_loader, desc=\"Testing\", unit=\"batch\"):\n",
    "            if config.USE_GPU:\n",
    "                img = img.to(device)\n",
    "                label = label.to(device)\n",
    "\n",
    "            prediction = net(img)  # 获得输出\n",
    "            num_c_score += chebyshev_distance(prediction, label)  # 计算得分的函数\n",
    "            num_ca_score += canberra_distance(prediction, label)  # 计算得分的函数\n",
    "            num_cos_score += cosine_similarity(prediction, label)  # 计算得分的函数\n",
    "            num_acc += acc(prediction, label)\n",
    "\n",
    "    c_score = num_c_score.cpu().detach().numpy() / len(test_set)  # 计算正确率，先转换成cpu变量\n",
    "    ca_score = num_ca_score.cpu().detach().numpy() / len(test_set)  # 计算正确率，先转换成cpu变量\n",
    "    cos_score = num_cos_score.cpu().detach().numpy() / len(test_set)  # 计算正确率，先转换成cpu变量\n",
    "    t_acc = num_acc.cpu().detach().numpy() / len(test_set)\n",
    "\n",
    "    timeSpan = time.time() - start_tick\n",
    "\n",
    "    # 打印结果\n",
    "    print(f\"Epoch {ep}/{config.EPOCH}:\")\n",
    "    print(f\"切比雪夫距离: {c_score:.4f}\")\n",
    "    print(f\"堪培拉距离: {ca_score:.4f}\")\n",
    "    print(f\"余弦相似度: {cos_score:.4f}\")\n",
    "    print(f\"准确性: {t_acc:.4f}\")\n",
    "    print(f\"已用时间: {timeSpan:.2f}s\")\n",
    "\n",
    "    # 保存模型\n",
    "    model_save_path = config.SAVE_FILE + str(ep)\n",
    "    torch.save(net.state_dict(), model_save_path)\n",
    "    print(f\"Model saved to {model_save_path}\\n\")"
   ]
  },
  {
   "cell_type": "code",
   "execution_count": null,
   "id": "9edf122c-c94c-4aae-8821-47cfec8e6ea7",
   "metadata": {},
   "outputs": [],
   "source": []
  }
 ],
 "metadata": {
  "kernelspec": {
   "display_name": "Python 3 (ipykernel)",
   "language": "python",
   "name": "python3"
  },
  "language_info": {
   "codemirror_mode": {
    "name": "ipython",
    "version": 3
   },
   "file_extension": ".py",
   "mimetype": "text/x-python",
   "name": "python",
   "nbconvert_exporter": "python",
   "pygments_lexer": "ipython3",
   "version": "3.8.10"
  }
 },
 "nbformat": 4,
 "nbformat_minor": 5
}
